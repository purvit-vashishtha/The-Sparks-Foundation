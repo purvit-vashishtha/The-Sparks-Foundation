{
 "cells": [
  {
   "cell_type": "markdown",
   "metadata": {},
   "source": [
    "# The Sparks Foundation: Data Science and Business Analytics Intern"
   ]
  },
  {
   "cell_type": "markdown",
   "metadata": {},
   "source": [
    "## Author: Purvit Vashishtha"
   ]
  },
  {
   "cell_type": "markdown",
   "metadata": {},
   "source": [
    "## Task 7"
   ]
  },
  {
   "cell_type": "markdown",
   "metadata": {},
   "source": [
    "### Problem Statement: Create a hybrid model for stock price/performance prediction using numerical analysis of historical stock prices, and sentimental analysis of news headlines"
   ]
  },
  {
   "cell_type": "markdown",
   "metadata": {},
   "source": [
    "# Data Preprocessing"
   ]
  },
  {
   "cell_type": "code",
   "execution_count": 1,
   "metadata": {},
   "outputs": [],
   "source": [
    "#importing libraries\n",
    "import pandas as pd\n",
    "import numpy as np\n",
    "import matplotlib.pyplot as plt\n",
    "import seaborn as sns\n",
    "%matplotlib inline\n",
    "import warnings\n",
    "warnings.filterwarnings(action=\"ignore\")"
   ]
  },
  {
   "cell_type": "code",
   "execution_count": 2,
   "metadata": {},
   "outputs": [],
   "source": [
    "# importing dataset\n",
    "df = pd.read_csv(\"india-news-headlines.csv\")"
   ]
  },
  {
   "cell_type": "code",
   "execution_count": 3,
   "metadata": {},
   "outputs": [
    {
     "data": {
      "text/html": [
       "<div>\n",
       "<style scoped>\n",
       "    .dataframe tbody tr th:only-of-type {\n",
       "        vertical-align: middle;\n",
       "    }\n",
       "\n",
       "    .dataframe tbody tr th {\n",
       "        vertical-align: top;\n",
       "    }\n",
       "\n",
       "    .dataframe thead th {\n",
       "        text-align: right;\n",
       "    }\n",
       "</style>\n",
       "<table border=\"1\" class=\"dataframe\">\n",
       "  <thead>\n",
       "    <tr style=\"text-align: right;\">\n",
       "      <th></th>\n",
       "      <th>publish_date</th>\n",
       "      <th>headline_category</th>\n",
       "      <th>headline_text</th>\n",
       "    </tr>\n",
       "  </thead>\n",
       "  <tbody>\n",
       "    <tr>\n",
       "      <th>0</th>\n",
       "      <td>20010101</td>\n",
       "      <td>sports.wwe</td>\n",
       "      <td>win over cena satisfying but defeating underta...</td>\n",
       "    </tr>\n",
       "    <tr>\n",
       "      <th>1</th>\n",
       "      <td>20010102</td>\n",
       "      <td>unknown</td>\n",
       "      <td>Status quo will not be disturbed at Ayodhya; s...</td>\n",
       "    </tr>\n",
       "    <tr>\n",
       "      <th>2</th>\n",
       "      <td>20010102</td>\n",
       "      <td>unknown</td>\n",
       "      <td>Fissures in Hurriyat over Pak visit</td>\n",
       "    </tr>\n",
       "    <tr>\n",
       "      <th>3</th>\n",
       "      <td>20010102</td>\n",
       "      <td>unknown</td>\n",
       "      <td>America's unwanted heading for India?</td>\n",
       "    </tr>\n",
       "    <tr>\n",
       "      <th>4</th>\n",
       "      <td>20010102</td>\n",
       "      <td>unknown</td>\n",
       "      <td>For bigwigs; it is destination Goa</td>\n",
       "    </tr>\n",
       "  </tbody>\n",
       "</table>\n",
       "</div>"
      ],
      "text/plain": [
       "   publish_date headline_category  \\\n",
       "0      20010101        sports.wwe   \n",
       "1      20010102           unknown   \n",
       "2      20010102           unknown   \n",
       "3      20010102           unknown   \n",
       "4      20010102           unknown   \n",
       "\n",
       "                                       headline_text  \n",
       "0  win over cena satisfying but defeating underta...  \n",
       "1  Status quo will not be disturbed at Ayodhya; s...  \n",
       "2                Fissures in Hurriyat over Pak visit  \n",
       "3              America's unwanted heading for India?  \n",
       "4                 For bigwigs; it is destination Goa  "
      ]
     },
     "execution_count": 3,
     "metadata": {},
     "output_type": "execute_result"
    }
   ],
   "source": [
    "# lets have a look at dataset\n",
    "df.head()"
   ]
  },
  {
   "cell_type": "code",
   "execution_count": 4,
   "metadata": {},
   "outputs": [],
   "source": [
    "# changing column names\n",
    "df = df.rename(columns={\"publish_date\":\"Date\",\"headline_category\":\"Category\",\"headline_text\":\"News\"})"
   ]
  },
  {
   "cell_type": "code",
   "execution_count": 5,
   "metadata": {},
   "outputs": [
    {
     "data": {
      "text/html": [
       "<div>\n",
       "<style scoped>\n",
       "    .dataframe tbody tr th:only-of-type {\n",
       "        vertical-align: middle;\n",
       "    }\n",
       "\n",
       "    .dataframe tbody tr th {\n",
       "        vertical-align: top;\n",
       "    }\n",
       "\n",
       "    .dataframe thead th {\n",
       "        text-align: right;\n",
       "    }\n",
       "</style>\n",
       "<table border=\"1\" class=\"dataframe\">\n",
       "  <thead>\n",
       "    <tr style=\"text-align: right;\">\n",
       "      <th></th>\n",
       "      <th>Date</th>\n",
       "      <th>Category</th>\n",
       "      <th>News</th>\n",
       "    </tr>\n",
       "  </thead>\n",
       "  <tbody>\n",
       "    <tr>\n",
       "      <th>0</th>\n",
       "      <td>20010101</td>\n",
       "      <td>sports.wwe</td>\n",
       "      <td>win over cena satisfying but defeating underta...</td>\n",
       "    </tr>\n",
       "    <tr>\n",
       "      <th>1</th>\n",
       "      <td>20010102</td>\n",
       "      <td>unknown</td>\n",
       "      <td>Status quo will not be disturbed at Ayodhya; s...</td>\n",
       "    </tr>\n",
       "    <tr>\n",
       "      <th>2</th>\n",
       "      <td>20010102</td>\n",
       "      <td>unknown</td>\n",
       "      <td>Fissures in Hurriyat over Pak visit</td>\n",
       "    </tr>\n",
       "    <tr>\n",
       "      <th>3</th>\n",
       "      <td>20010102</td>\n",
       "      <td>unknown</td>\n",
       "      <td>America's unwanted heading for India?</td>\n",
       "    </tr>\n",
       "    <tr>\n",
       "      <th>4</th>\n",
       "      <td>20010102</td>\n",
       "      <td>unknown</td>\n",
       "      <td>For bigwigs; it is destination Goa</td>\n",
       "    </tr>\n",
       "  </tbody>\n",
       "</table>\n",
       "</div>"
      ],
      "text/plain": [
       "       Date    Category                                               News\n",
       "0  20010101  sports.wwe  win over cena satisfying but defeating underta...\n",
       "1  20010102     unknown  Status quo will not be disturbed at Ayodhya; s...\n",
       "2  20010102     unknown                Fissures in Hurriyat over Pak visit\n",
       "3  20010102     unknown              America's unwanted heading for India?\n",
       "4  20010102     unknown                 For bigwigs; it is destination Goa"
      ]
     },
     "execution_count": 5,
     "metadata": {},
     "output_type": "execute_result"
    }
   ],
   "source": [
    "# checking dataset with new column names\n",
    "df.head()"
   ]
  },
  {
   "cell_type": "code",
   "execution_count": 6,
   "metadata": {},
   "outputs": [
    {
     "data": {
      "text/plain": [
       "Date        0\n",
       "Category    0\n",
       "News        0\n",
       "dtype: int64"
      ]
     },
     "execution_count": 6,
     "metadata": {},
     "output_type": "execute_result"
    }
   ],
   "source": [
    "#checking for null values\n",
    "df.isnull().sum()"
   ]
  },
  {
   "cell_type": "code",
   "execution_count": 7,
   "metadata": {},
   "outputs": [
    {
     "name": "stdout",
     "output_type": "stream",
     "text": [
      "<class 'pandas.core.frame.DataFrame'>\n",
      "RangeIndex: 3297172 entries, 0 to 3297171\n",
      "Data columns (total 3 columns):\n",
      " #   Column    Dtype \n",
      "---  ------    ----- \n",
      " 0   Date      int64 \n",
      " 1   Category  object\n",
      " 2   News      object\n",
      "dtypes: int64(1), object(2)\n",
      "memory usage: 75.5+ MB\n"
     ]
    }
   ],
   "source": [
    "# datatypes of dataset\n",
    "df.info()"
   ]
  },
  {
   "cell_type": "code",
   "execution_count": 8,
   "metadata": {},
   "outputs": [
    {
     "data": {
      "text/plain": [
       "(3297172, 3)"
      ]
     },
     "execution_count": 8,
     "metadata": {},
     "output_type": "execute_result"
    }
   ],
   "source": [
    "#shape of our dataset\n",
    "df.shape"
   ]
  },
  {
   "cell_type": "code",
   "execution_count": 9,
   "metadata": {},
   "outputs": [
    {
     "data": {
      "text/html": [
       "<div>\n",
       "<style scoped>\n",
       "    .dataframe tbody tr th:only-of-type {\n",
       "        vertical-align: middle;\n",
       "    }\n",
       "\n",
       "    .dataframe tbody tr th {\n",
       "        vertical-align: top;\n",
       "    }\n",
       "\n",
       "    .dataframe thead th {\n",
       "        text-align: right;\n",
       "    }\n",
       "</style>\n",
       "<table border=\"1\" class=\"dataframe\">\n",
       "  <thead>\n",
       "    <tr style=\"text-align: right;\">\n",
       "      <th></th>\n",
       "      <th>High</th>\n",
       "      <th>Low</th>\n",
       "      <th>Open</th>\n",
       "      <th>Close</th>\n",
       "      <th>Volume</th>\n",
       "      <th>Adj Close</th>\n",
       "    </tr>\n",
       "    <tr>\n",
       "      <th>Date</th>\n",
       "      <th></th>\n",
       "      <th></th>\n",
       "      <th></th>\n",
       "      <th></th>\n",
       "      <th></th>\n",
       "      <th></th>\n",
       "    </tr>\n",
       "  </thead>\n",
       "  <tbody>\n",
       "    <tr>\n",
       "      <th>2017-01-03</th>\n",
       "      <td>758.760010</td>\n",
       "      <td>747.700012</td>\n",
       "      <td>757.919983</td>\n",
       "      <td>753.669983</td>\n",
       "      <td>3521100</td>\n",
       "      <td>753.669983</td>\n",
       "    </tr>\n",
       "    <tr>\n",
       "      <th>2017-01-04</th>\n",
       "      <td>759.679993</td>\n",
       "      <td>754.200012</td>\n",
       "      <td>758.390015</td>\n",
       "      <td>757.179993</td>\n",
       "      <td>2510500</td>\n",
       "      <td>757.179993</td>\n",
       "    </tr>\n",
       "    <tr>\n",
       "      <th>2017-01-05</th>\n",
       "      <td>782.400024</td>\n",
       "      <td>760.260010</td>\n",
       "      <td>761.549988</td>\n",
       "      <td>780.450012</td>\n",
       "      <td>5830100</td>\n",
       "      <td>780.450012</td>\n",
       "    </tr>\n",
       "    <tr>\n",
       "      <th>2017-01-06</th>\n",
       "      <td>799.440002</td>\n",
       "      <td>778.479980</td>\n",
       "      <td>782.359985</td>\n",
       "      <td>795.989990</td>\n",
       "      <td>5986200</td>\n",
       "      <td>795.989990</td>\n",
       "    </tr>\n",
       "    <tr>\n",
       "      <th>2017-01-09</th>\n",
       "      <td>801.770020</td>\n",
       "      <td>791.770020</td>\n",
       "      <td>798.000000</td>\n",
       "      <td>796.919983</td>\n",
       "      <td>3446100</td>\n",
       "      <td>796.919983</td>\n",
       "    </tr>\n",
       "  </tbody>\n",
       "</table>\n",
       "</div>"
      ],
      "text/plain": [
       "                  High         Low        Open       Close   Volume  \\\n",
       "Date                                                                  \n",
       "2017-01-03  758.760010  747.700012  757.919983  753.669983  3521100   \n",
       "2017-01-04  759.679993  754.200012  758.390015  757.179993  2510500   \n",
       "2017-01-05  782.400024  760.260010  761.549988  780.450012  5830100   \n",
       "2017-01-06  799.440002  778.479980  782.359985  795.989990  5986200   \n",
       "2017-01-09  801.770020  791.770020  798.000000  796.919983  3446100   \n",
       "\n",
       "             Adj Close  \n",
       "Date                    \n",
       "2017-01-03  753.669983  \n",
       "2017-01-04  757.179993  \n",
       "2017-01-05  780.450012  \n",
       "2017-01-06  795.989990  \n",
       "2017-01-09  796.919983  "
      ]
     },
     "execution_count": 9,
     "metadata": {},
     "output_type": "execute_result"
    }
   ],
   "source": [
    "import pandas_datareader as pdr\n",
    "stock_data = pdr.get_data_yahoo('AMZN', start='2017-01-1',end='2020-12-15')\n",
    "stock_data.head()"
   ]
  },
  {
   "cell_type": "code",
   "execution_count": 10,
   "metadata": {},
   "outputs": [],
   "source": [
    "# saving data to another file\n",
    "stock_data.to_csv('amzn.csv')"
   ]
  },
  {
   "cell_type": "code",
   "execution_count": 11,
   "metadata": {},
   "outputs": [],
   "source": [
    "# reading new dataset\n",
    "df1 = pd.read_csv(\"amzn.csv\")"
   ]
  },
  {
   "cell_type": "code",
   "execution_count": 12,
   "metadata": {},
   "outputs": [
    {
     "data": {
      "text/html": [
       "<div>\n",
       "<style scoped>\n",
       "    .dataframe tbody tr th:only-of-type {\n",
       "        vertical-align: middle;\n",
       "    }\n",
       "\n",
       "    .dataframe tbody tr th {\n",
       "        vertical-align: top;\n",
       "    }\n",
       "\n",
       "    .dataframe thead th {\n",
       "        text-align: right;\n",
       "    }\n",
       "</style>\n",
       "<table border=\"1\" class=\"dataframe\">\n",
       "  <thead>\n",
       "    <tr style=\"text-align: right;\">\n",
       "      <th></th>\n",
       "      <th>Date</th>\n",
       "      <th>High</th>\n",
       "      <th>Low</th>\n",
       "      <th>Open</th>\n",
       "      <th>Close</th>\n",
       "      <th>Volume</th>\n",
       "      <th>Adj Close</th>\n",
       "    </tr>\n",
       "  </thead>\n",
       "  <tbody>\n",
       "    <tr>\n",
       "      <th>0</th>\n",
       "      <td>2017-01-03</td>\n",
       "      <td>758.760010</td>\n",
       "      <td>747.700012</td>\n",
       "      <td>757.919983</td>\n",
       "      <td>753.669983</td>\n",
       "      <td>3521100</td>\n",
       "      <td>753.669983</td>\n",
       "    </tr>\n",
       "    <tr>\n",
       "      <th>1</th>\n",
       "      <td>2017-01-04</td>\n",
       "      <td>759.679993</td>\n",
       "      <td>754.200012</td>\n",
       "      <td>758.390015</td>\n",
       "      <td>757.179993</td>\n",
       "      <td>2510500</td>\n",
       "      <td>757.179993</td>\n",
       "    </tr>\n",
       "    <tr>\n",
       "      <th>2</th>\n",
       "      <td>2017-01-05</td>\n",
       "      <td>782.400024</td>\n",
       "      <td>760.260010</td>\n",
       "      <td>761.549988</td>\n",
       "      <td>780.450012</td>\n",
       "      <td>5830100</td>\n",
       "      <td>780.450012</td>\n",
       "    </tr>\n",
       "    <tr>\n",
       "      <th>3</th>\n",
       "      <td>2017-01-06</td>\n",
       "      <td>799.440002</td>\n",
       "      <td>778.479980</td>\n",
       "      <td>782.359985</td>\n",
       "      <td>795.989990</td>\n",
       "      <td>5986200</td>\n",
       "      <td>795.989990</td>\n",
       "    </tr>\n",
       "    <tr>\n",
       "      <th>4</th>\n",
       "      <td>2017-01-09</td>\n",
       "      <td>801.770020</td>\n",
       "      <td>791.770020</td>\n",
       "      <td>798.000000</td>\n",
       "      <td>796.919983</td>\n",
       "      <td>3446100</td>\n",
       "      <td>796.919983</td>\n",
       "    </tr>\n",
       "  </tbody>\n",
       "</table>\n",
       "</div>"
      ],
      "text/plain": [
       "         Date        High         Low        Open       Close   Volume  \\\n",
       "0  2017-01-03  758.760010  747.700012  757.919983  753.669983  3521100   \n",
       "1  2017-01-04  759.679993  754.200012  758.390015  757.179993  2510500   \n",
       "2  2017-01-05  782.400024  760.260010  761.549988  780.450012  5830100   \n",
       "3  2017-01-06  799.440002  778.479980  782.359985  795.989990  5986200   \n",
       "4  2017-01-09  801.770020  791.770020  798.000000  796.919983  3446100   \n",
       "\n",
       "    Adj Close  \n",
       "0  753.669983  \n",
       "1  757.179993  \n",
       "2  780.450012  \n",
       "3  795.989990  \n",
       "4  796.919983  "
      ]
     },
     "execution_count": 12,
     "metadata": {},
     "output_type": "execute_result"
    }
   ],
   "source": [
    "df1.head()"
   ]
  },
  {
   "cell_type": "markdown",
   "metadata": {},
   "source": [
    "# Data Visualization"
   ]
  },
  {
   "cell_type": "code",
   "execution_count": 14,
   "metadata": {},
   "outputs": [
    {
     "data": {
      "text/plain": [
       "0    753.669983\n",
       "1    757.179993\n",
       "2    780.450012\n",
       "3    795.989990\n",
       "4    796.919983\n",
       "Name: Close, dtype: float64"
      ]
     },
     "execution_count": 14,
     "metadata": {},
     "output_type": "execute_result"
    }
   ],
   "source": [
    "# setting index of dataframe as \"Close\" column\n",
    "df_1 = df1.reset_index()['Close']\n",
    "df_1.head()"
   ]
  },
  {
   "cell_type": "code",
   "execution_count": 15,
   "metadata": {},
   "outputs": [
    {
     "data": {
      "text/plain": [
       "[<matplotlib.lines.Line2D at 0x7ffab65d1550>]"
      ]
     },
     "execution_count": 15,
     "metadata": {},
     "output_type": "execute_result"
    },
    {
     "data": {
      "image/png": "[encoded data removed]",
      "text/plain": [
       "<Figure size 432x288 with 1 Axes>"
      ]
     },
     "metadata": {
      "needs_background": "light"
     },
     "output_type": "display_data"
    }
   ],
   "source": [
    "#visualizing df_1\n",
    "plt.plot(df_1)"
   ]
  },
  {
   "cell_type": "markdown",
   "metadata": {},
   "source": [
    "# Feature Engineering"
   ]
  },
  {
   "cell_type": "code",
   "execution_count": 19,
   "metadata": {},
   "outputs": [],
   "source": [
    "# Scaling data df_1 using MinMax\n",
    "from sklearn.preprocessing import MinMaxScaler\n",
    "scaler = MinMaxScaler()\n",
    "df_1 = scaler.fit_transform(np.array(df_1).reshape(-1,1))"
   ]
  },
  {
   "cell_type": "code",
   "execution_count": 21,
   "metadata": {},
   "outputs": [
    {
     "data": {
      "text/plain": [
       "array([[0.        ],\n",
       "       [0.0012636 ],\n",
       "       [0.0096408 ],\n",
       "       [0.01523519],\n",
       "       [0.01556999],\n",
       "       [0.0152028 ]])"
      ]
     },
     "execution_count": 21,
     "metadata": {},
     "output_type": "execute_result"
    }
   ],
   "source": [
    "df_1[:6]"
   ]
  },
  {
   "cell_type": "code",
   "execution_count": 22,
   "metadata": {},
   "outputs": [],
   "source": [
    "# defining training and testing size\n",
    "train_size=int(len(df_1)*0.65)\n",
    "test_size=len(df_1)-train_size\n",
    "train_data,test_data=df_1[0:train_size,:],df_1[train_size:len(df_1),:1]"
   ]
  },
  {
   "cell_type": "code",
   "execution_count": 23,
   "metadata": {},
   "outputs": [],
   "source": [
    "# creatning a function that will create dataset for model\n",
    "def create_dataset(dataset, time_step=1):\n",
    "    datax,datay=[],[]\n",
    "    for i in range(len(dataset)-time_step-1):\n",
    "        a=dataset[i:(i+time_step),0]\n",
    "        datax.append(a)\n",
    "        datay.append(dataset[i+time_step,0])\n",
    "    return np.array(datax),np.array(datay)"
   ]
  },
  {
   "cell_type": "code",
   "execution_count": 24,
   "metadata": {},
   "outputs": [],
   "source": [
    "time_step=100\n",
    "X_train,y_train=create_dataset(train_data,time_step)\n",
    "X_test,y_test=create_dataset(test_data,time_step)"
   ]
  },
  {
   "cell_type": "code",
   "execution_count": 25,
   "metadata": {},
   "outputs": [
    {
     "data": {
      "text/plain": [
       "(546, 100)"
      ]
     },
     "execution_count": 25,
     "metadata": {},
     "output_type": "execute_result"
    }
   ],
   "source": [
    "X_train.shape"
   ]
  },
  {
   "cell_type": "code",
   "execution_count": 27,
   "metadata": {},
   "outputs": [],
   "source": [
    "# changing shape of data for model\n",
    "X_train = X_train.reshape(X_train.shape[0],X_train.shape[1],1)\n",
    "X_test = X_test.reshape(X_test.shape[0], X_test.shape[1],1)"
   ]
  },
  {
   "cell_type": "code",
   "execution_count": 28,
   "metadata": {},
   "outputs": [
    {
     "name": "stdout",
     "output_type": "stream",
     "text": [
      "(546, 100, 1)\n",
      "(248, 100, 1)\n"
     ]
    }
   ],
   "source": [
    "print(X_train.shape)\n",
    "print(X_test.shape)"
   ]
  },
  {
   "cell_type": "markdown",
   "metadata": {},
   "source": [
    "# Deep Learning Model"
   ]
  },
  {
   "cell_type": "code",
   "execution_count": 31,
   "metadata": {},
   "outputs": [],
   "source": [
    "# importing deep learning library\n",
    "from tensorflow.keras.models import Sequential\n",
    "from tensorflow.keras.layers import Dense\n",
    "from tensorflow.keras.layers import LSTM"
   ]
  },
  {
   "cell_type": "code",
   "execution_count": 32,
   "metadata": {},
   "outputs": [],
   "source": [
    "model = Sequential()\n",
    "model.add(LSTM(50, return_sequences=True, input_shape=(100,1)))\n",
    "model.add(LSTM(50, return_sequences=True))\n",
    "model.add(LSTM(50))\n",
    "model.add(Dense(1))\n",
    "model.compile(optimizer=\"adam\",loss=\"mean_squared_error\")"
   ]
  },
  {
   "cell_type": "code",
   "execution_count": 33,
   "metadata": {},
   "outputs": [
    {
     "name": "stdout",
     "output_type": "stream",
     "text": [
      "Model: \"sequential\"\n",
      "_________________________________________________________________\n",
      "Layer (type)                 Output Shape              Param #   \n",
      "=================================================================\n",
      "lstm (LSTM)                  (None, 100, 50)           10400     \n",
      "_________________________________________________________________\n",
      "lstm_1 (LSTM)                (None, 100, 50)           20200     \n",
      "_________________________________________________________________\n",
      "lstm_2 (LSTM)                (None, 50)                20200     \n",
      "_________________________________________________________________\n",
      "dense (Dense)                (None, 1)                 51        \n",
      "=================================================================\n",
      "Total params: 50,851\n",
      "Trainable params: 50,851\n",
      "Non-trainable params: 0\n",
      "_________________________________________________________________\n"
     ]
    }
   ],
   "source": [
    "model.summary()"
   ]
  },
  {
   "cell_type": "code",
   "execution_count": 34,
   "metadata": {},
   "outputs": [
    {
     "name": "stdout",
     "output_type": "stream",
     "text": [
      "Epoch 1/40\n",
      "9/9 [==============================] - 9s 380ms/step - loss: 0.0523 - val_loss: 0.0054\n",
      "Epoch 2/40\n",
      "9/9 [==============================] - 2s 181ms/step - loss: 0.0057 - val_loss: 0.0606\n",
      "Epoch 3/40\n",
      "9/9 [==============================] - 2s 197ms/step - loss: 0.0034 - val_loss: 0.0154\n",
      "Epoch 4/40\n",
      "9/9 [==============================] - 2s 179ms/step - loss: 0.0017 - val_loss: 0.0211\n",
      "Epoch 5/40\n",
      "9/9 [==============================] - 2s 179ms/step - loss: 0.0012 - val_loss: 0.0076\n",
      "Epoch 6/40\n",
      "9/9 [==============================] - 2s 178ms/step - loss: 7.4992e-04 - val_loss: 0.0039\n",
      "Epoch 7/40\n",
      "9/9 [==============================] - 2s 179ms/step - loss: 8.2605e-04 - val_loss: 0.0064\n",
      "Epoch 8/40\n",
      "9/9 [==============================] - 2s 213ms/step - loss: 7.7338e-04 - val_loss: 0.0049\n",
      "Epoch 9/40\n",
      "9/9 [==============================] - 2s 191ms/step - loss: 6.9225e-04 - val_loss: 0.0062\n",
      "Epoch 10/40\n",
      "9/9 [==============================] - 2s 184ms/step - loss: 7.0429e-04 - val_loss: 0.0066\n",
      "Epoch 11/40\n",
      "9/9 [==============================] - 2s 186ms/step - loss: 6.9059e-04 - val_loss: 0.0058\n",
      "Epoch 12/40\n",
      "9/9 [==============================] - 2s 203ms/step - loss: 7.0607e-04 - val_loss: 0.0052\n",
      "Epoch 13/40\n",
      "9/9 [==============================] - 2s 192ms/step - loss: 7.3408e-04 - val_loss: 0.0066\n",
      "Epoch 14/40\n",
      "9/9 [==============================] - 2s 184ms/step - loss: 6.7407e-04 - val_loss: 0.0073\n",
      "Epoch 15/40\n",
      "9/9 [==============================] - 2s 181ms/step - loss: 6.3485e-04 - val_loss: 0.0062\n",
      "Epoch 16/40\n",
      "9/9 [==============================] - 2s 181ms/step - loss: 6.6982e-04 - val_loss: 0.0052\n",
      "Epoch 17/40\n",
      "9/9 [==============================] - 2s 201ms/step - loss: 6.4589e-04 - val_loss: 0.0075\n",
      "Epoch 18/40\n",
      "9/9 [==============================] - 2s 186ms/step - loss: 6.4228e-04 - val_loss: 0.0080\n",
      "Epoch 19/40\n",
      "9/9 [==============================] - 2s 178ms/step - loss: 6.0723e-04 - val_loss: 0.0083\n",
      "Epoch 20/40\n",
      "9/9 [==============================] - 2s 184ms/step - loss: 6.6851e-04 - val_loss: 0.0059\n",
      "Epoch 21/40\n",
      "9/9 [==============================] - 2s 180ms/step - loss: 6.0120e-04 - val_loss: 0.0073\n",
      "Epoch 22/40\n",
      "9/9 [==============================] - 2s 204ms/step - loss: 6.3216e-04 - val_loss: 0.0065\n",
      "Epoch 23/40\n",
      "9/9 [==============================] - 2s 189ms/step - loss: 6.4434e-04 - val_loss: 0.0064\n",
      "Epoch 24/40\n",
      "9/9 [==============================] - 2s 180ms/step - loss: 5.4933e-04 - val_loss: 0.0068\n",
      "Epoch 25/40\n",
      "9/9 [==============================] - 2s 194ms/step - loss: 5.5881e-04 - val_loss: 0.0063\n",
      "Epoch 26/40\n",
      "9/9 [==============================] - 2s 214ms/step - loss: 5.8811e-04 - val_loss: 0.0068\n",
      "Epoch 27/40\n",
      "9/9 [==============================] - 2s 214ms/step - loss: 5.9587e-04 - val_loss: 0.0059\n",
      "Epoch 28/40\n",
      "9/9 [==============================] - 2s 179ms/step - loss: 6.4447e-04 - val_loss: 0.0062\n",
      "Epoch 29/40\n",
      "9/9 [==============================] - 2s 182ms/step - loss: 6.4699e-04 - val_loss: 0.0069\n",
      "Epoch 30/40\n",
      "9/9 [==============================] - 2s 177ms/step - loss: 5.1971e-04 - val_loss: 0.0078\n",
      "Epoch 31/40\n",
      "9/9 [==============================] - 2s 200ms/step - loss: 4.8383e-04 - val_loss: 0.0105\n",
      "Epoch 32/40\n",
      "9/9 [==============================] - 2s 178ms/step - loss: 6.1619e-04 - val_loss: 0.0069\n",
      "Epoch 33/40\n",
      "9/9 [==============================] - 2s 189ms/step - loss: 5.7774e-04 - val_loss: 0.0063\n",
      "Epoch 34/40\n",
      "9/9 [==============================] - 2s 191ms/step - loss: 5.5987e-04 - val_loss: 0.0099\n",
      "Epoch 35/40\n",
      "9/9 [==============================] - 2s 181ms/step - loss: 5.4015e-04 - val_loss: 0.0081\n",
      "Epoch 36/40\n",
      "9/9 [==============================] - 2s 179ms/step - loss: 5.1531e-04 - val_loss: 0.0131\n",
      "Epoch 37/40\n",
      "9/9 [==============================] - 2s 179ms/step - loss: 6.8215e-04 - val_loss: 0.0155\n",
      "Epoch 38/40\n",
      "9/9 [==============================] - 2s 185ms/step - loss: 6.5103e-04 - val_loss: 0.0145\n",
      "Epoch 39/40\n",
      "9/9 [==============================] - 2s 188ms/step - loss: 5.6283e-04 - val_loss: 0.0112\n",
      "Epoch 40/40\n",
      "9/9 [==============================] - 2s 192ms/step - loss: 4.7176e-04 - val_loss: 0.0119\n"
     ]
    },
    {
     "data": {
      "text/plain": [
       "<tensorflow.python.keras.callbacks.History at 0x7ffad0c011f0>"
      ]
     },
     "execution_count": 34,
     "metadata": {},
     "output_type": "execute_result"
    }
   ],
   "source": [
    "model.fit(X_train, y_train, validation_data=(X_test,y_test), epochs=40,batch_size=64, verbose=1)"
   ]
  },
  {
   "cell_type": "markdown",
   "metadata": {},
   "source": [
    "# Prediction through model"
   ]
  },
  {
   "cell_type": "code",
   "execution_count": 35,
   "metadata": {},
   "outputs": [],
   "source": [
    "train_predict = model.predict(X_train)\n",
    "test_predict = model.predict(X_test)"
   ]
  },
  {
   "cell_type": "code",
   "execution_count": 36,
   "metadata": {},
   "outputs": [],
   "source": [
    "train_predict=scaler.inverse_transform(train_predict)\n",
    "test_predict=scaler.inverse_transform(test_predict)"
   ]
  },
  {
   "cell_type": "code",
   "execution_count": 38,
   "metadata": {},
   "outputs": [
    {
     "data": {
      "text/plain": [
       "1541.4537568099508"
      ]
     },
     "execution_count": 38,
     "metadata": {},
     "output_type": "execute_result"
    }
   ],
   "source": [
    "import math\n",
    "from sklearn.metrics import mean_squared_error\n",
    "math.sqrt(mean_squared_error(y_train,train_predict))"
   ]
  },
  {
   "cell_type": "code",
   "execution_count": 39,
   "metadata": {},
   "outputs": [
    {
     "data": {
      "text/plain": [
       "2425.5529107048246"
      ]
     },
     "execution_count": 39,
     "metadata": {},
     "output_type": "execute_result"
    }
   ],
   "source": [
    "math.sqrt(mean_squared_error(y_test, test_predict))"
   ]
  },
  {
   "cell_type": "code",
   "execution_count": 40,
   "metadata": {},
   "outputs": [
    {
     "data": {
      "image/png": "[encoded data removed]",
      "text/plain": [
       "<Figure size 432x288 with 1 Axes>"
      ]
     },
     "metadata": {
      "needs_background": "light"
     },
     "output_type": "display_data"
    }
   ],
   "source": [
    "look_back=100\n",
    "trainpredictplot=np.empty_like(df_1)\n",
    "trainpredictplot[:, :]=np.nan\n",
    "trainpredictplot[look_back:len(train_predict)+look_back,:]=train_predict\n",
    "#shif test predict for plot\n",
    "testpredictplot=np.empty_like(df_1)\n",
    "testpredictplot[:, :]=np.nan\n",
    "testpredictplot[len(train_predict)+(look_back*2)+1:len(df_1)-1,:]=test_predict\n",
    "\n",
    "plt.plot(scaler.inverse_transform(df_1))\n",
    "plt.plot(trainpredictplot)\n",
    "plt.plot(testpredictplot)\n",
    "plt.show()"
   ]
  },
  {
   "cell_type": "code",
   "execution_count": 41,
   "metadata": {},
   "outputs": [],
   "source": [
    "day_new=np.arange(1,101)\n",
    "day_pred=np.arange(101,131)"
   ]
  },
  {
   "cell_type": "code",
   "execution_count": 42,
   "metadata": {},
   "outputs": [
    {
     "data": {
      "image/png": "[encoded data removed]",
      "text/plain": [
       "<Figure size 432x288 with 1 Axes>"
      ]
     },
     "metadata": {
      "needs_background": "light"
     },
     "output_type": "display_data"
    }
   ],
   "source": [
    "x_input=test_data[248:].reshape(1,-1)\n",
    "temp_input=list(x_input)\n",
    "temp_input=temp_input[0].tolist()\n",
    "\n",
    "from numpy import array\n",
    "lst_output=[]\n",
    "n_steps= 100\n",
    "i=0\n",
    "while(i<30):\n",
    "    if(len(temp_input)>100):\n",
    "        x_input=np.array(temp_input[1:])\n",
    "        x_input=x_input.reshape(1,-1)\n",
    "        x_input = x_input.reshape((1, n_steps, 1))\n",
    "        yhat = model.predict(x_input, verbose=0)\n",
    "        temp_input.extend(yhat[0].tolist())\n",
    "        temp_input=temp_input[1:]\n",
    "        lst_output.extend(yhat.tolist())\n",
    "        i=i+1\n",
    "    else:\n",
    "        x_input = x_input.reshape((1, n_steps,1))\n",
    "        yhat = model.predict(x_input, verbose=0)\n",
    "        temp_input.extend(yhat[0].tolist())\n",
    "        lst_output.extend(yhat.tolist())\n",
    "        i=i+1\n",
    "    \n",
    "\n",
    "plt.plot(day_new,scaler.inverse_transform(df_1[896:]))\n",
    "plt.plot(day_pred,scaler.inverse_transform(lst_output));"
   ]
  },
  {
   "cell_type": "code",
   "execution_count": 43,
   "metadata": {},
   "outputs": [
    {
     "data": {
      "image/png": "[encoded data removed]",
      "text/plain": [
       "<Figure size 432x288 with 1 Axes>"
      ]
     },
     "metadata": {
      "needs_background": "light"
     },
     "output_type": "display_data"
    }
   ],
   "source": [
    "df3=df_1.tolist()\n",
    "df3.extend(lst_output)\n",
    "plt.plot(df3[780:]);"
   ]
  },
  {
   "cell_type": "code",
   "execution_count": 44,
   "metadata": {},
   "outputs": [
    {
     "data": {
      "text/plain": [
       "[<matplotlib.lines.Line2D at 0x7ffad4ee81f0>]"
      ]
     },
     "execution_count": 44,
     "metadata": {},
     "output_type": "execute_result"
    },
    {
     "data": {
      "image/png": "[encoded data removed]",
      "text/plain": [
       "<Figure size 432x288 with 1 Axes>"
      ]
     },
     "metadata": {
      "needs_background": "light"
     },
     "output_type": "display_data"
    }
   ],
   "source": [
    "\n",
    "df3=scaler.inverse_transform(df3).tolist()\n",
    "plt.plot(df3)"
   ]
  }
 ],
 "metadata": {
  "kernelspec": {
   "display_name": "Python 3",
   "language": "python",
   "name": "python3"
  },
  "language_info": {
   "codemirror_mode": {
    "name": "ipython",
    "version": 3
   },
   "file_extension": ".py",
   "mimetype": "text/x-python",
   "name": "python",
   "nbconvert_exporter": "python",
   "pygments_lexer": "ipython3",
   "version": "3.8.5"
  }
 },
 "nbformat": 4,
 "nbformat_minor": 4
}
